{
 "cells": [
  {
   "cell_type": "code",
   "execution_count": null,
   "metadata": {},
   "outputs": [],
   "source": [
    "def even(n):\n",
    "    if i % 2 == 0:\n",
    "        yield i for i in range(n):\n",
    "            print(i)\n",
    "        else:\n",
    "            print(' ')\n",
    "    \n",
    "\n",
    "m = int(input())\n",
    "even(m)"
   ]
  },
  {
   "cell_type": "code",
   "execution_count": null,
   "metadata": {},
   "outputs": [],
   "source": []
  }
 ],
 "metadata": {
  "language_info": {
   "name": "python"
  }
 },
 "nbformat": 4,
 "nbformat_minor": 2
}
