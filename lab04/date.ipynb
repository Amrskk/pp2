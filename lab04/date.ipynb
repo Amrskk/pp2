{
 "cells": [
  {
   "cell_type": "code",
   "execution_count": 2,
   "metadata": {},
   "outputs": [
    {
     "name": "stdout",
     "output_type": "stream",
     "text": [
      "2025-03-03\n"
     ]
    }
   ],
   "source": [
    "import datetime  \n",
    "x = datetime.datetime.now()  \n",
    "five_days_ago = datetime.datetime(x.year, x.month, x.day) - datetime.timedelta(5)  \n",
    "\n",
    "print(five_days_ago.strftime(\"%Y-%m-%d\"))  "
   ]
  },
  {
   "cell_type": "code",
   "execution_count": 3,
   "metadata": {},
   "outputs": [
    {
     "name": "stdout",
     "output_type": "stream",
     "text": [
      "Yesterday's date: 2025-03-07\n",
      "Today's date: 2025-03-08\n",
      "Tomorrow's date: 2025-03-09\n"
     ]
    }
   ],
   "source": [
    "import datetime  \n",
    "today = datetime.datetime.now()  \n",
    "yesterday = datetime.datetime(today.year, today.month, today.day) - datetime.timedelta(1)  \n",
    "tomorrow = datetime.datetime(today.year, today.month, today.day) + datetime.timedelta(1)  \n",
    "\n",
    "print(f\"Yesterday's date: {yesterday.strftime(\"%Y-%m-%d\")}\")  \n",
    "print(f\"Today's date: {today.strftime(\"%Y-%m-%d\")}\")  \n",
    "print(f\"Tomorrow's date: {tomorrow.strftime(\"%Y-%m-%d\")}\")  "
   ]
  },
  {
   "cell_type": "code",
   "execution_count": 4,
   "metadata": {},
   "outputs": [
    {
     "name": "stdout",
     "output_type": "stream",
     "text": [
      "2025-03-08 04:24:58\n"
     ]
    }
   ],
   "source": [
    "import datetime\n",
    "from datetime import datetime, timedelta\n",
    "\n",
    "x = datetime.now()\n",
    "\n",
    "ans = x.replace(microsecond=0)\n",
    "\n",
    "print (ans)"
   ]
  },
  {
   "cell_type": "code",
   "execution_count": null,
   "metadata": {},
   "outputs": [
    {
     "name": "stdout",
     "output_type": "stream",
     "text": [
      "432000.0\n"
     ]
    }
   ],
   "source": [
    "import datetime\n",
    "from datetime import datetime, timedelta\n",
    "\n",
    "dif=int(input(\"How many days?\"))\n",
    "x = datetime.now()\n",
    "y = x + timedelta(days=dif)\n",
    "\n",
    "their_difference = y - x\n",
    "\n",
    "ans = their_difference.total_seconds()\n",
    "\n",
    "print (ans)"
   ]
  }
 ],
 "metadata": {
  "kernelspec": {
   "display_name": "Python 3",
   "language": "python",
   "name": "python3"
  },
  "language_info": {
   "codemirror_mode": {
    "name": "ipython",
    "version": 3
   },
   "file_extension": ".py",
   "mimetype": "text/x-python",
   "name": "python",
   "nbconvert_exporter": "python",
   "pygments_lexer": "ipython3",
   "version": "3.12.6"
  }
 },
 "nbformat": 4,
 "nbformat_minor": 2
}
