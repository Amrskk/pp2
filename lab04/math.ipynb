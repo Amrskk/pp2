{
 "cells": [
  {
   "cell_type": "code",
   "execution_count": null,
   "metadata": {},
   "outputs": [
    {
     "data": {
      "text/plain": [
       "Output radian: 0.2617993877991494\n"
      ]
     },
     "metadata": {},
     "output_type": "display_data"
    }
   ],
   "source": [
    "import math\n",
    "\n",
    "def degrees_to_radians(degrees):\n",
    "    return degrees * (math.pi / 180)\n",
    "\n",
    "degrees = int(input(\"Input degree: \"))\n",
    "radians = degrees_to_radians(degrees)\n",
    "print(f\"Output radian: {radians}\")"
   ]
  },
  {
   "cell_type": "code",
   "execution_count": null,
   "metadata": {},
   "outputs": [
    {
     "data": {
      "text/plain": [
       "Expected Output: 27.5\n"
      ]
     },
     "metadata": {},
     "output_type": "display_data"
    }
   ],
   "source": [
    "import math\n",
    "def area(h,a,b):\n",
    "    return (1/2)*h*(a+b)\n",
    "\n",
    "h = int(input(\"Height: \"))\n",
    "a = int(input(\"Base, first value:\"))\n",
    "b = int(input(\"Base, second value: \"))\n",
    "print(f\"Expected Output: {area(h,a,b)}\")"
   ]
  },
  {
   "cell_type": "code",
   "execution_count": null,
   "metadata": {},
   "outputs": [
    {
     "data": {
      "text/plain": [
       "The area of the polygon is: 625.0000000000001\n"
      ]
     },
     "metadata": {},
     "output_type": "display_data"
    }
   ],
   "source": [
    "import math\n",
    "def area(n,a):\n",
    "    return (n*(a**2))/(4*math.tan(math.pi/n))\n",
    "\n",
    "n = int(input(\"Input number of sides: \"))\n",
    "a = int(input(\"Input the length of a side: \"))\n",
    "print(f\"The area of the polygon is: {area(n,a)}\")"
   ]
  },
  {
   "cell_type": "code",
   "execution_count": null,
   "metadata": {},
   "outputs": [
    {
     "data": {
      "text/plain": [
       "Expected Output: 30\n"
      ]
     },
     "metadata": {},
     "output_type": "display_data"
    }
   ],
   "source": [
    "import math\n",
    "def area(a,h):\n",
    "    return a*h\n",
    "a = int(input(\"Length of base: \"))\n",
    "h = int(input(\"Height of parallelogram: \"))\n",
    "print(f\"Expected Output: {area(a,h)}\")"
   ]
  }
 ],
 "metadata": {
  "kernelspec": {
   "display_name": "Python 3",
   "language": "python",
   "name": "python3"
  },
  "language_info": {
   "name": "python",
   "version": "3.12.6"
  }
 },
 "nbformat": 4,
 "nbformat_minor": 2
}
