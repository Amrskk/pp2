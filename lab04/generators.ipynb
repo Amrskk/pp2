{
 "cells": [
  {
   "cell_type": "code",
   "execution_count": 2,
   "metadata": {},
   "outputs": [
    {
     "name": "stdout",
     "output_type": "stream",
     "text": [
      "1\n",
      "4\n",
      "9\n",
      "16\n"
     ]
    }
   ],
   "source": [
    "def square(n): \n",
    "    i=1\n",
    "    while i < n:\n",
    "        yield i**2 \n",
    "        i+=1\n",
    "    \n",
    "m = int(input())\n",
    "\n",
    "for num in square(m): \n",
    "    print (num)"
   ]
  },
  {
   "cell_type": "code",
   "execution_count": 4,
   "metadata": {},
   "outputs": [
    {
     "name": "stdout",
     "output_type": "stream",
     "text": [
      "2\n",
      "4\n",
      "6\n",
      "8\n",
      "10\n",
      "12\n",
      "14\n",
      "16\n",
      "18\n"
     ]
    }
   ],
   "source": [
    "def even(n): \n",
    "    i=1\n",
    "    while i < n:\n",
    "        if (i%2 == 0):\n",
    "            yield i\n",
    "        i+=1\n",
    "\n",
    "m = int(input())\n",
    "\n",
    "for num in even(m):\n",
    "    print (num)"
   ]
  },
  {
   "cell_type": "code",
   "execution_count": 7,
   "metadata": {},
   "outputs": [
    {
     "name": "stdout",
     "output_type": "stream",
     "text": [
      "12\n"
     ]
    }
   ],
   "source": [
    "def derivative(n):\n",
    "    i=1\n",
    "    while i < n:\n",
    "        if (i%3 == 0 and i%4 == 0):\n",
    "            yield i\n",
    "        i+=1\n",
    "\n",
    "m = int(input())\n",
    "\n",
    "for num in derivative(m):\n",
    "    print (num)"
   ]
  },
  {
   "cell_type": "code",
   "execution_count": 9,
   "metadata": {},
   "outputs": [
    {
     "name": "stdout",
     "output_type": "stream",
     "text": [
      "1\n",
      "4\n",
      "9\n",
      "16\n",
      "25\n",
      "36\n",
      "49\n",
      "64\n",
      "81\n",
      "100\n",
      "121\n",
      "144\n",
      "169\n",
      "196\n",
      "225\n",
      "256\n",
      "289\n",
      "324\n",
      "361\n"
     ]
    }
   ],
   "source": [
    "def square_roots(a, b):\n",
    "    for i in range(a, b):\n",
    "        yield i**2\n",
    "\n",
    "a = int(input(\"1st number: \"))\n",
    "b = int(input(\"2nd number: \"))\n",
    "\n",
    "for i in square_roots(a,b):\n",
    "    print(i)"
   ]
  },
  {
   "cell_type": "code",
   "execution_count": null,
   "metadata": {},
   "outputs": [
    {
     "name": "stdout",
     "output_type": "stream",
     "text": [
      "20\n",
      "19\n",
      "18\n",
      "17\n",
      "16\n",
      "15\n",
      "14\n",
      "13\n",
      "12\n",
      "11\n",
      "10\n",
      "9\n",
      "8\n",
      "7\n",
      "6\n",
      "5\n",
      "4\n",
      "3\n",
      "2\n",
      "1\n"
     ]
    }
   ],
   "source": [
    "def down(n):\n",
    "    while (n>0):\n",
    "        yield n\n",
    "        n-=1\n",
    "\n",
    "m = int(input())\n",
    "\n",
    "for i in down(m):\n",
    "    print(i)"
   ]
  }
 ],
 "metadata": {
  "kernelspec": {
   "display_name": "Python 3",
   "language": "python",
   "name": "python3"
  },
  "language_info": {
   "codemirror_mode": {
    "name": "ipython",
    "version": 3
   },
   "file_extension": ".py",
   "mimetype": "text/x-python",
   "name": "python",
   "nbconvert_exporter": "python",
   "pygments_lexer": "ipython3",
   "version": "3.12.6"
  }
 },
 "nbformat": 4,
 "nbformat_minor": 2
}
