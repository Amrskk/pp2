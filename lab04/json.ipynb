{
 "cells": [
  {
   "cell_type": "code",
   "execution_count": null,
   "metadata": {},
   "outputs": [
    {
     "name": "stdout",
     "output_type": "stream",
     "text": [
      "Interface Status\n",
      "=================================================================\n",
      "DN                                                 Description          Speed     \n",
      "-----------------------------------------------------------------\n",
      "topology/pod-1/node-201/sys/phys-[eth1/33]                              inherit \n",
      "topology/pod-1/node-201/sys/phys-[eth1/34]                              inherit \n",
      "topology/pod-1/node-201/sys/phys-[eth1/35]                              inherit \n",
      "topology/pod-1/node-201/sys/phys-[eth1/36]                              inherit \n",
      "topology/pod-1/node-201/sys/phys-[eth1/1]                               inherit \n",
      "topology/pod-1/node-201/sys/phys-[eth1/2]                               inherit \n",
      "topology/pod-1/node-201/sys/phys-[eth1/3]                               inherit \n",
      "topology/pod-1/node-201/sys/phys-[eth1/4]                               inherit \n",
      "topology/pod-1/node-201/sys/phys-[eth1/5]                               inherit \n",
      "topology/pod-1/node-201/sys/phys-[eth1/6]                               inherit \n",
      "topology/pod-1/node-201/sys/phys-[eth1/7]                               inherit \n",
      "topology/pod-1/node-201/sys/phys-[eth1/8]                               inherit \n",
      "topology/pod-1/node-201/sys/phys-[eth1/9]                               inherit \n",
      "topology/pod-1/node-201/sys/phys-[eth1/10]                              inherit \n",
      "topology/pod-1/node-201/sys/phys-[eth1/11]                              inherit \n",
      "topology/pod-1/node-201/sys/phys-[eth1/12]                              inherit \n",
      "topology/pod-1/node-201/sys/phys-[eth1/13]                              inherit \n",
      "topology/pod-1/node-201/sys/phys-[eth1/14]                              inherit \n"
     ]
    }
   ],
   "source": [
    "import json\n",
    "with open(\"C:/Users/Lenovo/Downloads/sample-data.json\") as file:\n",
    "    data = json.load(file)\n",
    "\n",
    "interfaces = data[\"imdata\"]\n",
    "\n",
    "print(\"Interface Status\")\n",
    "\n",
    "print(\"=\" * 65)\n",
    "\n",
    "print(f\"{'DN':50} {'Description':20} {'Speed':10}\")\n",
    "\n",
    "print(\"-\" * 65)\n",
    "\n",
    "\n",
    "for item in interfaces:\n",
    "    dn = item[\"l1PhysIf\"][\"attributes\"][\"dn\"]\n",
    "\n",
    "    description = item[\"l1PhysIf\"][\"attributes\"].get(\"descr\", \"inherit\")\n",
    "\n",
    "    speed = item[\"l1PhysIf\"][\"attributes\"].get(\"speed\", \"inherit\")\n",
    "    \n",
    "    print(f\"{dn:50} {description:20} {speed:8}\")"
   ]
  }
 ],
 "metadata": {
  "kernelspec": {
   "display_name": "Python 3",
   "language": "python",
   "name": "python3"
  },
  "language_info": {
   "codemirror_mode": {
    "name": "ipython",
    "version": 3
   },
   "file_extension": ".py",
   "mimetype": "text/x-python",
   "name": "python",
   "nbconvert_exporter": "python",
   "pygments_lexer": "ipython3",
   "version": "3.12.6"
  }
 },
 "nbformat": 4,
 "nbformat_minor": 2
}
