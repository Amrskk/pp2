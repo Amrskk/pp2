{
 "cells": [
  {
   "cell_type": "code",
   "execution_count": null,
   "metadata": {},
   "outputs": [],
   "source": [
    "import math\n",
    "\n",
    "def multiply(a):\n",
    "    return math.prod(a)\n",
    "\n",
    "a = []\n",
    "while True:\n",
    "    b = input(\"Input a number: \")\n",
    "    if b == \"\":  \n",
    "        break\n",
    "    try:\n",
    "        a.append(float(b))  \n",
    "    except ValueError:\n",
    "        print(\"It's not a number.\")\n",
    "\n",
    "result=multiply(a)\n",
    "print(result)"
   ]
  },
  {
   "cell_type": "code",
   "execution_count": null,
   "metadata": {},
   "outputs": [],
   "source": [
    "import math\n",
    "\n",
    "a = str(input(\"Input string: \"))\n",
    "upper = 0\n",
    "lower = 0\n",
    "for i in a:\n",
    "    if i.isupper():\n",
    "        upper+=1\n",
    "    elif i.islower():\n",
    "        lower+=1\n",
    "\n",
    "print(\"Num of upper: \", upper , \"\\n\",\"Num of lower: \", lower )"
   ]
  },
  {
   "cell_type": "code",
   "execution_count": null,
   "metadata": {},
   "outputs": [],
   "source": [
    "def Palindrome(a):\n",
    "    a = a.replace(\" \", \"\").lower()\n",
    "    return a == a[::1]\n",
    "\n",
    "a = str(input(\"Input a string: \"))\n",
    "if (Palindrome(a)):\n",
    "    print (\"True\")\n",
    "else:\n",
    "    print(\"False\")"
   ]
  },
  {
   "cell_type": "code",
   "execution_count": null,
   "metadata": {},
   "outputs": [],
   "source": [
    "import time\n",
    "import math\n",
    "\n",
    "\n",
    "a = int(input(\"Number: \"))\n",
    "timer = int(input(\"milliseconds: \"))\n",
    "\n",
    "time.sleep (timer/1000)\n",
    "\n",
    "answer = math.sqrt(a)\n",
    "\n",
    "print(f\"Square root of {a} after {timer} is {answer}\")"
   ]
  },
  {
   "cell_type": "code",
   "execution_count": null,
   "metadata": {},
   "outputs": [],
   "source": [
    "tup = ()\n",
    "y = list(tup)\n",
    "while (True):\n",
    "    your_input = input(\"Enter smthing: \")\n",
    "    if (your_input == \"\"):\n",
    "        break\n",
    "    y.append(your_input)\n",
    "\n",
    "answer = all(y)\n",
    "print(answer)"
   ]
  }
 ],
 "metadata": {
  "language_info": {
   "name": "python"
  }
 },
 "nbformat": 4,
 "nbformat_minor": 2
}
