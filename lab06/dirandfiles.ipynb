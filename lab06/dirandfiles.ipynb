{
 "cells": [
  {
   "cell_type": "code",
   "execution_count": null,
   "metadata": {},
   "outputs": [],
   "source": [
    "import os\n",
    "path = input(\"Enter a path: \")\n",
    "\n",
    "if not os.path.exists(path):\n",
    "    print(\"No such path exists!\")\n",
    "\n",
    "else:\n",
    "    directories = [d for d in os.listdir(path) if os.path.isdir(os.path.join(path, d))]\n",
    "    files = [f for f in os.listdir(path) if os.path.isfile(os.path.join(path, f))]\n",
    "    all_items = os.listdir(path)\n",
    "    \n",
    "    print(\"\\nOnly directories:\", directories)\n",
    "    print(\"Only files:\", files)\n",
    "    print(\"Files and directories:\", all_items)"
   ]
  },
  {
   "cell_type": "code",
   "execution_count": null,
   "metadata": {},
   "outputs": [],
   "source": [
    "import os\n",
    "\n",
    "def task(path):\n",
    "    if os.path.exists(path):\n",
    "        result = 'Path is '\n",
    "        result += 'readable, ' if os.access(path, os.R_OK) else 'not readable, '\n",
    "        result += 'writable, ' if os.access(path, os.W_OK) else 'not writable, '\n",
    "        result += 'executable' if os.access(path, os.X_OK)else 'not executable.'\n",
    "        print(f'Path {path} exists\\n{result}')\n",
    "    else:\n",
    "        print(f'Path {path} does not exists')"
   ]
  },
  {
   "cell_type": "code",
   "execution_count": null,
   "metadata": {},
   "outputs": [],
   "source": [
    "import os\n",
    "\n",
    "def task(path):\n",
    "    if os.path.exists(path):\n",
    "        print(f'Path {path} exists')\n",
    "        directory, filename = os.path.split(path)\n",
    "        print(f\"Directory: {directory}\")\n",
    "        print(f\"Filename: {filename}\")\n",
    "    else:\n",
    "        print(f'Path {path} does not exists')"
   ]
  },
  {
   "cell_type": "code",
   "execution_count": null,
   "metadata": {},
   "outputs": [],
   "source": [
    "import os\n",
    "\n",
    "def task(path):\n",
    "    with open(path, 'r') as file:\n",
    "        lines = file.readlines()\n",
    "        print(f'Numbers of lines = {len(lines)}')"
   ]
  },
  {
   "cell_type": "code",
   "execution_count": null,
   "metadata": {},
   "outputs": [],
   "source": [
    "import os\n",
    "\n",
    "def task(path, l):\n",
    "    with open(path, 'w') as file:\n",
    "        file.write(' '.join(l))"
   ]
  },
  {
   "cell_type": "code",
   "execution_count": null,
   "metadata": {},
   "outputs": [],
   "source": [
    "import os\n",
    "import string\n",
    "\n",
    "def text(directory):\n",
    "    if not os.path.exists(directory):\n",
    "        os.makedirs(directory)\n",
    "\n",
    "    for letter in string.ascii_uppercase:\n",
    "        file_path = os.path.join(directory, f\"{letter}.txt\")\n",
    "        with open(file_path, 'w', encoding='utf-8') as file:\n",
    "            file.write(f\"This is file {letter}.txt\\n\")\n",
    "\n",
    "directory = input(\"Enter : \")\n",
    "text(directory)"
   ]
  },
  {
   "cell_type": "code",
   "execution_count": null,
   "metadata": {},
   "outputs": [],
   "source": [
    "import os\n",
    "\n",
    "def task(path1, path2):\n",
    "    with open(path1, 'r') as file1, open(path2, 'a') as file2:\n",
    "        file2.write(file1.read())"
   ]
  },
  {
   "cell_type": "code",
   "execution_count": null,
   "metadata": {},
   "outputs": [],
   "source": [
    "import os\n",
    "\n",
    "def task(path):\n",
    "    if os.access(path, os.F_OK):\n",
    "        os.remove(path)\n",
    "        print('File exists and has been removed')\n",
    "    else:\n",
    "        print(f\"Error: File '{path}' does not exist.\")"
   ]
  }
 ],
 "metadata": {
  "language_info": {
   "name": "python"
  }
 },
 "nbformat": 4,
 "nbformat_minor": 2
}
