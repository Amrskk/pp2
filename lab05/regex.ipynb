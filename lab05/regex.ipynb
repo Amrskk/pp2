{
 "cells": [
  {
   "cell_type": "code",
   "execution_count": 1,
   "metadata": {},
   "outputs": [
    {
     "name": "stdout",
     "output_type": "stream",
     "text": [
      "False\n"
     ]
    }
   ],
   "source": [
    "import re\n",
    "def task(a):\n",
    "   pattern = r'^ab*$' \n",
    "   if re.fullmatch (pattern,a):\n",
    "    return True\n",
    "   else: \n",
    "    return False\n",
    "\n",
    "b = str(input(\"Input string: \"))\n",
    "if task(b):\n",
    "    print (\"True\")\n",
    "else: print (\"False\")"
   ]
  },
  {
   "cell_type": "code",
   "execution_count": 2,
   "metadata": {},
   "outputs": [
    {
     "name": "stdout",
     "output_type": "stream",
     "text": [
      "Not match\n"
     ]
    }
   ],
   "source": [
    "import re\n",
    "\n",
    "def task(a):\n",
    "    pattern = r'^ab{2,3}$'\n",
    "    if re.fullmatch(pattern,a):\n",
    "        return True\n",
    "    else: \n",
    "        return False\n",
    "\n",
    "str1 = str(input(\"Input string: \"))\n",
    "\n",
    "if (task(str1)):\n",
    "    print(\"Match\")\n",
    "else: \n",
    "    print (\"Not match\")"
   ]
  },
  {
   "cell_type": "code",
   "execution_count": null,
   "metadata": {},
   "outputs": [],
   "source": [
    "import re\n",
    "\n",
    "def task(a):\n",
    "    pattern = r'[a-z]+_[a-z]+'\n",
    "    return re.findall(pattern,a)\n",
    "\n",
    "str_1 = str(input(\"Input string: \"))\n",
    "print(task(str_1))"
   ]
  },
  {
   "cell_type": "code",
   "execution_count": null,
   "metadata": {},
   "outputs": [],
   "source": [
    "import re\n",
    "\n",
    "def task(a):\n",
    "    pattern = r\"[A-Z][a-z]+\"\n",
    "    return re.findall(pattern,a)\n",
    "\n",
    "str_1 = str(input(\"Input string: \"))\n",
    "print(task(str_1))"
   ]
  },
  {
   "cell_type": "code",
   "execution_count": null,
   "metadata": {},
   "outputs": [],
   "source": [
    "import re\n",
    "\n",
    "def task(a):\n",
    "    pattern = r\"^a.*b$\"\n",
    "    return re.fullmatch(pattern,a)\n",
    "\n",
    "str_1 = str(input(\"Input string: \"))\n",
    "print(task(str_1))"
   ]
  },
  {
   "cell_type": "code",
   "execution_count": null,
   "metadata": {},
   "outputs": [],
   "source": [
    "import re\n",
    "\n",
    "def task(a):\n",
    "    ans = re.sub(r'[ ,.]',\":\",a)\n",
    "    return ans\n",
    "\n",
    "b = str(input(\"Input string: \"))\n",
    "print(task(b))"
   ]
  },
  {
   "cell_type": "code",
   "execution_count": null,
   "metadata": {},
   "outputs": [],
   "source": [
    "import re\n",
    "\n",
    "def task(a):\n",
    "    pattern = r\"_([a-z])\"\n",
    "    ans = re.sub(pattern,lambda match: match.group(1).upper(),a)\n",
    "    return ans\n",
    "\n",
    "b = str(input(\"Input string: \"))\n",
    "print(task(b))"
   ]
  },
  {
   "cell_type": "code",
   "execution_count": null,
   "metadata": {},
   "outputs": [],
   "source": [
    "import re\n",
    "\n",
    "def task (a):\n",
    "    pattern = r\"(?=[A-Z])\"\n",
    "    return \" \".join(re.split(pattern,a))\n",
    "\n",
    "b = str(input(\"Input new string: \"))\n",
    "print(task(b))"
   ]
  },
  {
   "cell_type": "code",
   "execution_count": null,
   "metadata": {},
   "outputs": [],
   "source": [
    "import re\n",
    "\n",
    "def task (a):\n",
    "    pattern = r\"(?=[A-Z])\"\n",
    "    return re.sub(pattern,\" \",a)\n",
    "\n",
    "b = str(input(\"Input new string : \"))\n",
    "print(task(b))"
   ]
  },
  {
   "cell_type": "code",
   "execution_count": null,
   "metadata": {},
   "outputs": [],
   "source": [
    "import re\n",
    "\n",
    "def task(a):\n",
    "    return re.sub(r'(?<!^)(?=[A-Z])', '_', a).lower()\n",
    "\n",
    "b=input('Input string : ')\n",
    "print(task(b))"
   ]
  }
 ],
 "metadata": {
  "kernelspec": {
   "display_name": "Python 3",
   "language": "python",
   "name": "python3"
  },
  "language_info": {
   "codemirror_mode": {
    "name": "ipython",
    "version": 3
   },
   "file_extension": ".py",
   "mimetype": "text/x-python",
   "name": "python",
   "nbconvert_exporter": "python",
   "pygments_lexer": "ipython3",
   "version": "3.12.6"
  }
 },
 "nbformat": 4,
 "nbformat_minor": 2
}
